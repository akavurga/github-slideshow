{
  "nbformat": 4,
  "nbformat_minor": 0,
  "metadata": {
    "colab": {
      "name": "Şirket_Harcamaları_Değerlendirmesi.ipynb",
      "provenance": [],
      "collapsed_sections": [],
      "authorship_tag": "ABX9TyNmNg4Z03bdhy8FM0PjxZ3j",
      "include_colab_link": true
    },
    "kernelspec": {
      "name": "python3",
      "display_name": "Python 3"
    },
    "language_info": {
      "name": "python"
    }
  },
  "cells": [
    {
      "cell_type": "markdown",
      "metadata": {
        "id": "view-in-github",
        "colab_type": "text"
      },
      "source": [
        "<a href=\"https://colab.research.google.com/github/akavurga/github-slideshow/blob/master/%C5%9Eirket_Harcamalar%C4%B1_De%C4%9Ferlendirmesi.ipynb\" target=\"_parent\"><img src=\"https://colab.research.google.com/assets/colab-badge.svg\" alt=\"Open In Colab\"/></a>"
      ]
    },
    {
      "cell_type": "markdown",
      "metadata": {
        "id": "xcup4VN2cMI-"
      },
      "source": [
        "#  Basit Random Forest Modeli Örneği\n",
        "  * Veri Setinin Hikayesi : 50 Startup ın yaptığı harcamalar ve elde ettikleri kazançlar tutuluyor. Biz de bir startup olarak bu veri setinden neler çıkarabiliriz bakalım\n",
        "  * Data içerisindeki R&D Spend : Şirketin Ar-Ge harcamaları , \n",
        "  * Administration : Şirketin Yönetimsel harcamlar,\n",
        "  * Marketing Spend : Şirketin Reklam harcamları,\n",
        "  * State: Şirketin bulunduğu eyalet,\n",
        "  * Profit : Şirketin kârını ifade ediyor\n",
        "  * Bağımlı değişken :  Profit\n",
        "\n"
      ]
    },
    {
      "cell_type": "markdown",
      "metadata": {
        "id": "q7E79AwpcFo-"
      },
      "source": [
        "## Colab'e Bağlanalım"
      ]
    },
    {
      "cell_type": "code",
      "metadata": {
        "colab": {
          "base_uri": "https://localhost:8080/"
        },
        "id": "DV0XgOb2cA3s",
        "outputId": "6289ec4c-b594-401d-d901-78597e411bcb"
      },
      "source": [
        "from google.colab import drive\n",
        "drive.mount('/gdrive')\n",
        "%cd /gdrive"
      ],
      "execution_count": 1,
      "outputs": [
        {
          "output_type": "stream",
          "text": [
            "Mounted at /gdrive\n",
            "/gdrive\n"
          ],
          "name": "stdout"
        }
      ]
    },
    {
      "cell_type": "code",
      "metadata": {
        "id": "c6kgI5WecWAe"
      },
      "source": [
        "import os\n",
        "os.chdir(\"/gdrive/MyDrive/Colab Çalışma Ortamı\")"
      ],
      "execution_count": 2,
      "outputs": []
    },
    {
      "cell_type": "markdown",
      "metadata": {
        "id": "H-jNg_qlctcu"
      },
      "source": [
        "## Datanın yüklenmesi"
      ]
    },
    {
      "cell_type": "code",
      "metadata": {
        "colab": {
          "base_uri": "https://localhost:8080/",
          "height": 195
        },
        "id": "PlgOnTwUcpG3",
        "outputId": "042b668a-e8ca-4752-959c-de2b15002449"
      },
      "source": [
        "import numpy as np\n",
        "import pandas as pd\n",
        "import seaborn as sns\n",
        "\n",
        "data = pd.read_csv(\"50_Startups.csv\")\n",
        "df = data.copy()\n",
        "df.head()"
      ],
      "execution_count": 4,
      "outputs": [
        {
          "output_type": "execute_result",
          "data": {
            "text/html": [
              "<div>\n",
              "<style scoped>\n",
              "    .dataframe tbody tr th:only-of-type {\n",
              "        vertical-align: middle;\n",
              "    }\n",
              "\n",
              "    .dataframe tbody tr th {\n",
              "        vertical-align: top;\n",
              "    }\n",
              "\n",
              "    .dataframe thead th {\n",
              "        text-align: right;\n",
              "    }\n",
              "</style>\n",
              "<table border=\"1\" class=\"dataframe\">\n",
              "  <thead>\n",
              "    <tr style=\"text-align: right;\">\n",
              "      <th></th>\n",
              "      <th>R&amp;D Spend</th>\n",
              "      <th>Administration</th>\n",
              "      <th>Marketing Spend</th>\n",
              "      <th>State</th>\n",
              "      <th>Profit</th>\n",
              "    </tr>\n",
              "  </thead>\n",
              "  <tbody>\n",
              "    <tr>\n",
              "      <th>0</th>\n",
              "      <td>165349.20</td>\n",
              "      <td>136897.80</td>\n",
              "      <td>471784.10</td>\n",
              "      <td>New York</td>\n",
              "      <td>192261.83</td>\n",
              "    </tr>\n",
              "    <tr>\n",
              "      <th>1</th>\n",
              "      <td>162597.70</td>\n",
              "      <td>151377.59</td>\n",
              "      <td>443898.53</td>\n",
              "      <td>California</td>\n",
              "      <td>191792.06</td>\n",
              "    </tr>\n",
              "    <tr>\n",
              "      <th>2</th>\n",
              "      <td>153441.51</td>\n",
              "      <td>101145.55</td>\n",
              "      <td>407934.54</td>\n",
              "      <td>Florida</td>\n",
              "      <td>191050.39</td>\n",
              "    </tr>\n",
              "    <tr>\n",
              "      <th>3</th>\n",
              "      <td>144372.41</td>\n",
              "      <td>118671.85</td>\n",
              "      <td>383199.62</td>\n",
              "      <td>New York</td>\n",
              "      <td>182901.99</td>\n",
              "    </tr>\n",
              "    <tr>\n",
              "      <th>4</th>\n",
              "      <td>142107.34</td>\n",
              "      <td>91391.77</td>\n",
              "      <td>366168.42</td>\n",
              "      <td>Florida</td>\n",
              "      <td>166187.94</td>\n",
              "    </tr>\n",
              "  </tbody>\n",
              "</table>\n",
              "</div>"
            ],
            "text/plain": [
              "   R&D Spend  Administration  Marketing Spend       State     Profit\n",
              "0  165349.20       136897.80        471784.10    New York  192261.83\n",
              "1  162597.70       151377.59        443898.53  California  191792.06\n",
              "2  153441.51       101145.55        407934.54     Florida  191050.39\n",
              "3  144372.41       118671.85        383199.62    New York  182901.99\n",
              "4  142107.34        91391.77        366168.42     Florida  166187.94"
            ]
          },
          "metadata": {},
          "execution_count": 4
        }
      ]
    },
    {
      "cell_type": "markdown",
      "metadata": {
        "id": "rALRzuVodGGA"
      },
      "source": [
        "### Keşifçi Veri Analizi"
      ]
    },
    {
      "cell_type": "code",
      "metadata": {
        "colab": {
          "base_uri": "https://localhost:8080/",
          "height": 166
        },
        "id": "49pxwzD_c5yq",
        "outputId": "ee6d9e63-cbc0-4582-fd43-68b542d36f16"
      },
      "source": [
        "df.describe().T # Görünüşe göre Pazarlamaya ve Ar Ge ye hiç harcama yapmayan startuplar var muhtemelen en düşük kârı elde edenler de o startuplardır"
      ],
      "execution_count": 5,
      "outputs": [
        {
          "output_type": "execute_result",
          "data": {
            "text/html": [
              "<div>\n",
              "<style scoped>\n",
              "    .dataframe tbody tr th:only-of-type {\n",
              "        vertical-align: middle;\n",
              "    }\n",
              "\n",
              "    .dataframe tbody tr th {\n",
              "        vertical-align: top;\n",
              "    }\n",
              "\n",
              "    .dataframe thead th {\n",
              "        text-align: right;\n",
              "    }\n",
              "</style>\n",
              "<table border=\"1\" class=\"dataframe\">\n",
              "  <thead>\n",
              "    <tr style=\"text-align: right;\">\n",
              "      <th></th>\n",
              "      <th>count</th>\n",
              "      <th>mean</th>\n",
              "      <th>std</th>\n",
              "      <th>min</th>\n",
              "      <th>25%</th>\n",
              "      <th>50%</th>\n",
              "      <th>75%</th>\n",
              "      <th>max</th>\n",
              "    </tr>\n",
              "  </thead>\n",
              "  <tbody>\n",
              "    <tr>\n",
              "      <th>R&amp;D Spend</th>\n",
              "      <td>50.0</td>\n",
              "      <td>73721.6156</td>\n",
              "      <td>45902.256482</td>\n",
              "      <td>0.00</td>\n",
              "      <td>39936.3700</td>\n",
              "      <td>73051.080</td>\n",
              "      <td>101602.8000</td>\n",
              "      <td>165349.20</td>\n",
              "    </tr>\n",
              "    <tr>\n",
              "      <th>Administration</th>\n",
              "      <td>50.0</td>\n",
              "      <td>121344.6396</td>\n",
              "      <td>28017.802755</td>\n",
              "      <td>51283.14</td>\n",
              "      <td>103730.8750</td>\n",
              "      <td>122699.795</td>\n",
              "      <td>144842.1800</td>\n",
              "      <td>182645.56</td>\n",
              "    </tr>\n",
              "    <tr>\n",
              "      <th>Marketing Spend</th>\n",
              "      <td>50.0</td>\n",
              "      <td>211025.0978</td>\n",
              "      <td>122290.310726</td>\n",
              "      <td>0.00</td>\n",
              "      <td>129300.1325</td>\n",
              "      <td>212716.240</td>\n",
              "      <td>299469.0850</td>\n",
              "      <td>471784.10</td>\n",
              "    </tr>\n",
              "    <tr>\n",
              "      <th>Profit</th>\n",
              "      <td>50.0</td>\n",
              "      <td>112012.6392</td>\n",
              "      <td>40306.180338</td>\n",
              "      <td>14681.40</td>\n",
              "      <td>90138.9025</td>\n",
              "      <td>107978.190</td>\n",
              "      <td>139765.9775</td>\n",
              "      <td>192261.83</td>\n",
              "    </tr>\n",
              "  </tbody>\n",
              "</table>\n",
              "</div>"
            ],
            "text/plain": [
              "                 count         mean  ...          75%        max\n",
              "R&D Spend         50.0   73721.6156  ...  101602.8000  165349.20\n",
              "Administration    50.0  121344.6396  ...  144842.1800  182645.56\n",
              "Marketing Spend   50.0  211025.0978  ...  299469.0850  471784.10\n",
              "Profit            50.0  112012.6392  ...  139765.9775  192261.83\n",
              "\n",
              "[4 rows x 8 columns]"
            ]
          },
          "metadata": {},
          "execution_count": 5
        }
      ]
    },
    {
      "cell_type": "code",
      "metadata": {
        "colab": {
          "base_uri": "https://localhost:8080/"
        },
        "id": "vqr5ffTSdMcm",
        "outputId": "fe359c85-b456-49e3-8212-e4d4081d53a4"
      },
      "source": [
        "df.value_counts().sum()  # Ne kadar verim var ?"
      ],
      "execution_count": 7,
      "outputs": [
        {
          "output_type": "execute_result",
          "data": {
            "text/plain": [
              "50"
            ]
          },
          "metadata": {},
          "execution_count": 7
        }
      ]
    },
    {
      "cell_type": "code",
      "metadata": {
        "colab": {
          "base_uri": "https://localhost:8080/"
        },
        "id": "Jx1MpgDpdQ7D",
        "outputId": "3ef98e29-2fc7-4254-94f6-9aa7b0950f95"
      },
      "source": [
        "df.shape  # Veri setim 50 satır ve 5 sütun(değişken) dan oluşuyor"
      ],
      "execution_count": 8,
      "outputs": [
        {
          "output_type": "execute_result",
          "data": {
            "text/plain": [
              "(50, 5)"
            ]
          },
          "metadata": {},
          "execution_count": 8
        }
      ]
    },
    {
      "cell_type": "code",
      "metadata": {
        "colab": {
          "base_uri": "https://localhost:8080/"
        },
        "id": "VYQ8VDX4dYDI",
        "outputId": "8f5cf4ab-2c25-445a-f967-971cf1cb4d79"
      },
      "source": [
        "df.isnull().sum()  # Acaba veri setimde Null değer var mı ?"
      ],
      "execution_count": 10,
      "outputs": [
        {
          "output_type": "execute_result",
          "data": {
            "text/plain": [
              "R&D Spend          0\n",
              "Administration     0\n",
              "Marketing Spend    0\n",
              "State              0\n",
              "Profit             0\n",
              "dtype: int64"
            ]
          },
          "metadata": {},
          "execution_count": 10
        }
      ]
    },
    {
      "cell_type": "code",
      "metadata": {
        "colab": {
          "base_uri": "https://localhost:8080/",
          "height": 166
        },
        "id": "21Ux7AJ8daiG",
        "outputId": "89e80ff8-ef46-4acf-d815-a6d6a74c125f"
      },
      "source": [
        "df.groupby('State').mean() # Eyaletlere göre harcamalar ve kâr ortalamaları. Görünüşe göre Floridalı startuplar ar ge ye gerçekten önem veriyorlar "
      ],
      "execution_count": 11,
      "outputs": [
        {
          "output_type": "execute_result",
          "data": {
            "text/html": [
              "<div>\n",
              "<style scoped>\n",
              "    .dataframe tbody tr th:only-of-type {\n",
              "        vertical-align: middle;\n",
              "    }\n",
              "\n",
              "    .dataframe tbody tr th {\n",
              "        vertical-align: top;\n",
              "    }\n",
              "\n",
              "    .dataframe thead th {\n",
              "        text-align: right;\n",
              "    }\n",
              "</style>\n",
              "<table border=\"1\" class=\"dataframe\">\n",
              "  <thead>\n",
              "    <tr style=\"text-align: right;\">\n",
              "      <th></th>\n",
              "      <th>R&amp;D Spend</th>\n",
              "      <th>Administration</th>\n",
              "      <th>Marketing Spend</th>\n",
              "      <th>Profit</th>\n",
              "    </tr>\n",
              "    <tr>\n",
              "      <th>State</th>\n",
              "      <th></th>\n",
              "      <th></th>\n",
              "      <th></th>\n",
              "      <th></th>\n",
              "    </tr>\n",
              "  </thead>\n",
              "  <tbody>\n",
              "    <tr>\n",
              "      <th>California</th>\n",
              "      <td>64657.674118</td>\n",
              "      <td>120746.507059</td>\n",
              "      <td>182540.929412</td>\n",
              "      <td>103905.175294</td>\n",
              "    </tr>\n",
              "    <tr>\n",
              "      <th>Florida</th>\n",
              "      <td>80724.016250</td>\n",
              "      <td>121768.897500</td>\n",
              "      <td>247323.551250</td>\n",
              "      <td>118774.024375</td>\n",
              "    </tr>\n",
              "    <tr>\n",
              "      <th>New York</th>\n",
              "      <td>76195.062353</td>\n",
              "      <td>121543.470588</td>\n",
              "      <td>205346.015882</td>\n",
              "      <td>113756.446471</td>\n",
              "    </tr>\n",
              "  </tbody>\n",
              "</table>\n",
              "</div>"
            ],
            "text/plain": [
              "               R&D Spend  Administration  Marketing Spend         Profit\n",
              "State                                                                   \n",
              "California  64657.674118   120746.507059    182540.929412  103905.175294\n",
              "Florida     80724.016250   121768.897500    247323.551250  118774.024375\n",
              "New York    76195.062353   121543.470588    205346.015882  113756.446471"
            ]
          },
          "metadata": {},
          "execution_count": 11
        }
      ]
    },
    {
      "cell_type": "code",
      "metadata": {
        "colab": {
          "base_uri": "https://localhost:8080/",
          "height": 340
        },
        "id": "G7U3fhc_ebEN",
        "outputId": "f11ee50e-d30e-4371-beec-57aac9857731"
      },
      "source": [
        "df.corr()['Profit'].sort_values().plot(kind=\"bar\"); # kârla harcamalar arasında ki kolerasyonu görelim. Görünüşe göre kârı en çok etkileyen harcamalar ar ge harcamalarıymış"
      ],
      "execution_count": 17,
      "outputs": [
        {
          "output_type": "display_data",
          "data": {
            "image/png": "[encoded data removed]",
            "text/plain": [
              "<Figure size 432x288 with 1 Axes>"
            ]
          },
          "metadata": {
            "needs_background": "light"
          }
        }
      ]
    },
    {
      "cell_type": "code",
      "metadata": {
        "colab": {
          "base_uri": "https://localhost:8080/",
          "height": 296
        },
        "id": "SYYzk1d_hAAJ",
        "outputId": "8e9a001e-7e90-430a-a724-755c6cffab26"
      },
      "source": [
        "sns.boxplot(x=\"Profit\",data=df)  #Boxplot yöntemi ile Outlier değer var mı diye kontrol ediyorum 1 tane varmış, herhangi bir düzenlileştirme işlemi uygulamayacağım"
      ],
      "execution_count": 18,
      "outputs": [
        {
          "output_type": "execute_result",
          "data": {
            "text/plain": [
              "<matplotlib.axes._subplots.AxesSubplot at 0x7f9ab5f7ae10>"
            ]
          },
          "metadata": {},
          "execution_count": 18
        },
        {
          "output_type": "display_data",
          "data": {
            "image/png": "[encoded data removed]",
            "text/plain": [
              "<Figure size 432x288 with 1 Axes>"
            ]
          },
          "metadata": {
            "needs_background": "light"
          }
        }
      ]
    },
    {
      "cell_type": "markdown",
      "metadata": {
        "id": "J8VBU6OFjTmk"
      },
      "source": [
        "## Veriyi Anladığımıza Göre Modelimizi Oluşturabiliriz"
      ]
    },
    {
      "cell_type": "code",
      "metadata": {
        "id": "KGyse105ip5h"
      },
      "source": [
        "# Gerekli Kütüphaleri İmport Edelim\n",
        "from sklearn.model_selection import train_test_split,GridSearchCV\n",
        "from sklearn.metrics import mean_squared_error , r2_score\n",
        "from sklearn.ensemble import RandomForestRegressor"
      ],
      "execution_count": 19,
      "outputs": []
    },
    {
      "cell_type": "code",
      "metadata": {
        "colab": {
          "base_uri": "https://localhost:8080/",
          "height": 195
        },
        "id": "OIq2dmbvjnFM",
        "outputId": "3b9a8d44-bd74-4e0e-a08b-c0bc37c008c0"
      },
      "source": [
        "# Veri Setindeki Kategorik Değişkenleri Makine Öğrenmesi Algoritmasının Anlayabileceği Bir Yapıya Sokalım. Burada One Hat Encoding yaklaşımını uygulayacağız.\n",
        "\n",
        "df = pd.get_dummies(df, columns = [\"State\"],prefix=[\"State\"])\n",
        "df.head()"
      ],
      "execution_count": 22,
      "outputs": [
        {
          "output_type": "execute_result",
          "data": {
            "text/html": [
              "<div>\n",
              "<style scoped>\n",
              "    .dataframe tbody tr th:only-of-type {\n",
              "        vertical-align: middle;\n",
              "    }\n",
              "\n",
              "    .dataframe tbody tr th {\n",
              "        vertical-align: top;\n",
              "    }\n",
              "\n",
              "    .dataframe thead th {\n",
              "        text-align: right;\n",
              "    }\n",
              "</style>\n",
              "<table border=\"1\" class=\"dataframe\">\n",
              "  <thead>\n",
              "    <tr style=\"text-align: right;\">\n",
              "      <th></th>\n",
              "      <th>R&amp;D Spend</th>\n",
              "      <th>Administration</th>\n",
              "      <th>Marketing Spend</th>\n",
              "      <th>Profit</th>\n",
              "      <th>State_California</th>\n",
              "      <th>State_Florida</th>\n",
              "      <th>State_New York</th>\n",
              "    </tr>\n",
              "  </thead>\n",
              "  <tbody>\n",
              "    <tr>\n",
              "      <th>0</th>\n",
              "      <td>165349.20</td>\n",
              "      <td>136897.80</td>\n",
              "      <td>471784.10</td>\n",
              "      <td>192261.83</td>\n",
              "      <td>0</td>\n",
              "      <td>0</td>\n",
              "      <td>1</td>\n",
              "    </tr>\n",
              "    <tr>\n",
              "      <th>1</th>\n",
              "      <td>162597.70</td>\n",
              "      <td>151377.59</td>\n",
              "      <td>443898.53</td>\n",
              "      <td>191792.06</td>\n",
              "      <td>1</td>\n",
              "      <td>0</td>\n",
              "      <td>0</td>\n",
              "    </tr>\n",
              "    <tr>\n",
              "      <th>2</th>\n",
              "      <td>153441.51</td>\n",
              "      <td>101145.55</td>\n",
              "      <td>407934.54</td>\n",
              "      <td>191050.39</td>\n",
              "      <td>0</td>\n",
              "      <td>1</td>\n",
              "      <td>0</td>\n",
              "    </tr>\n",
              "    <tr>\n",
              "      <th>3</th>\n",
              "      <td>144372.41</td>\n",
              "      <td>118671.85</td>\n",
              "      <td>383199.62</td>\n",
              "      <td>182901.99</td>\n",
              "      <td>0</td>\n",
              "      <td>0</td>\n",
              "      <td>1</td>\n",
              "    </tr>\n",
              "    <tr>\n",
              "      <th>4</th>\n",
              "      <td>142107.34</td>\n",
              "      <td>91391.77</td>\n",
              "      <td>366168.42</td>\n",
              "      <td>166187.94</td>\n",
              "      <td>0</td>\n",
              "      <td>1</td>\n",
              "      <td>0</td>\n",
              "    </tr>\n",
              "  </tbody>\n",
              "</table>\n",
              "</div>"
            ],
            "text/plain": [
              "   R&D Spend  Administration  ...  State_Florida  State_New York\n",
              "0  165349.20       136897.80  ...              0               1\n",
              "1  162597.70       151377.59  ...              0               0\n",
              "2  153441.51       101145.55  ...              1               0\n",
              "3  144372.41       118671.85  ...              0               1\n",
              "4  142107.34        91391.77  ...              1               0\n",
              "\n",
              "[5 rows x 7 columns]"
            ]
          },
          "metadata": {},
          "execution_count": 22
        }
      ]
    },
    {
      "cell_type": "code",
      "metadata": {
        "id": "FhApUrcmkPGL"
      },
      "source": [
        "# Bağımlı ve Bağımız Değişkenlerimizi Belirleyip Train-Test Split Uygulayalım\n",
        "y= df[\"Profit\"]\n",
        "X = df.drop(['Profit'],axis=1).astype('float64')\n",
        "X_train,X_test,y_train,y_test = train_test_split(X,y,test_size=0.25,random_state=42)"
      ],
      "execution_count": 23,
      "outputs": []
    },
    {
      "cell_type": "code",
      "metadata": {
        "id": "L8QW0jQglApG"
      },
      "source": [
        "# Modelimizi Oluşturalım\n",
        "\n",
        "rf_model = RandomForestRegressor(random_state=42).fit(X_train,y_train)"
      ],
      "execution_count": 24,
      "outputs": []
    },
    {
      "cell_type": "code",
      "metadata": {
        "colab": {
          "base_uri": "https://localhost:8080/"
        },
        "id": "pbpw2nZflMgf",
        "outputId": "6982e379-4b9c-4b80-e31e-61d7ec2f7157"
      },
      "source": [
        "# İlkel Test Hatamızı Kontrol Edelim\n",
        "\n",
        "y_pred = rf_model.predict(X_test)\n",
        "print(\"r2_score = \",r2_score(y_test,y_pred),\"hata kareleri ortalaması = \", np.sqrt(mean_squared_error(y_test,y_pred))) # Random forest modelimiz ilkel olarak %93 doğrulukla tahminde bulunabilir"
      ],
      "execution_count": 25,
      "outputs": [
        {
          "output_type": "stream",
          "text": [
            "r2_score =  0.9329041592010969 hata kareleri ortalaması =  8491.880839314812\n"
          ],
          "name": "stdout"
        }
      ]
    },
    {
      "cell_type": "code",
      "metadata": {
        "colab": {
          "base_uri": "https://localhost:8080/"
        },
        "id": "9jPM2GjvlciY",
        "outputId": "2a5f57ce-2190-4d13-8f9d-22ce1e9f906a"
      },
      "source": [
        "# Modelimizin Hiperparametrelerini GridSearchVC ile Optimize Edelim (Parametreleri rastgele deneyebilirsiniz, cv=3 değerini arttırabilirsiniz)\n",
        "\n",
        "rf_params ={\"max_depth\":[5,8,10],\"max_features\":[2,5,10],\"n_estimators\":[200,500,1000,2000],\"min_samples_split\":[2,10,80,100]}\n",
        "\n",
        "rf_cv_model = GridSearchCV(rf_model,rf_params,cv=3,n_jobs=-1).fit(X_train,y_train)\n",
        "\n",
        "rf_cv_model.best_params_"
      ],
      "execution_count": 26,
      "outputs": [
        {
          "output_type": "execute_result",
          "data": {
            "text/plain": [
              "{'max_depth': 10,\n",
              " 'max_features': 5,\n",
              " 'min_samples_split': 2,\n",
              " 'n_estimators': 1000}"
            ]
          },
          "metadata": {},
          "execution_count": 26
        }
      ]
    },
    {
      "cell_type": "markdown",
      "metadata": {
        "id": "RyOUp2yVnzV3"
      },
      "source": [
        "## Optimize Edilmiş (Tune Edilmiş) Model"
      ]
    },
    {
      "cell_type": "code",
      "metadata": {
        "colab": {
          "base_uri": "https://localhost:8080/"
        },
        "id": "WAic1NVdl79W",
        "outputId": "d8df2af9-9dd0-4f47-a248-20aee9d6c946"
      },
      "source": [
        "# Bulduğumuz En İyi Parametre Değerleri İle Yeni Modelimizi Oluşturalım\n",
        "\n",
        "rf_tuned=RandomForestRegressor(random_state=42,max_depth=10,max_features=5,min_samples_split=2,n_estimators=1000).fit(X_train,y_train)\n",
        "y_pred = rf_tuned.predict(X_test)\n",
        "print(\"r2_score = \",r2_score(y_test,y_pred),\"hata kareleri ortalaması karekökü = \", np.sqrt(mean_squared_error(y_test,y_pred))) # Modelimiz %93.29 doğrulukla tahminde bulunabilir"
      ],
      "execution_count": 29,
      "outputs": [
        {
          "output_type": "stream",
          "text": [
            "r2_score =  0.9329914274705597 hata kareleri ortalaması karekökü =  8486.356555974302\n"
          ],
          "name": "stdout"
        }
      ]
    },
    {
      "cell_type": "markdown",
      "metadata": {
        "id": "FsLYvuJdxYRA"
      },
      "source": [
        "## Modelimizi Kullanarak Tahminlerde ve Çıkarımlarda Bulunalım ve İş Aksiyonları Alalım"
      ]
    },
    {
      "cell_type": "code",
      "metadata": {
        "colab": {
          "base_uri": "https://localhost:8080/",
          "height": 279
        },
        "id": "-a-cek5VoNRu",
        "outputId": "c000972d-3cc6-48e6-d9aa-9e1aa756a282"
      },
      "source": [
        "# Modelimiz Değişkenlerin Ağılıklarını Öğrendiğine GÖre Soralım Bakalım En Çok Getiri Sağlayan Yatırım Ne imiş ?\n",
        "from matplotlib import pyplot as plt\n",
        "Importance = pd.DataFrame({\"Importance\": rf_tuned.feature_importances_*100},index=X_train.columns)\n",
        "Importance.sort_values(by=\"Importance\",axis=0,ascending=True).plot(kind = \"barh\",color = \"r\")\n",
        "plt.xlabel(\"Variable Importance\")\n",
        "plt.gca().legend_ = None # Görünüşe göre Ar ge harcamaları gerçekten gelirimizi arttırıcak(Startupların Hepsinin Aynı Sektörde Olduğunu Kabul Edelim)\n",
        "                         # Biz de sektöre yeni adım atmış genç bir girişimci olarak Ar Ge ye yatırım yapmamız gerektiğini anladık"
      ],
      "execution_count": 30,
      "outputs": [
        {
          "output_type": "display_data",
          "data": {
            "image/png": "[encoded data removed]",
            "text/plain": [
              "<Figure size 432x288 with 1 Axes>"
            ]
          },
          "metadata": {
            "needs_background": "light"
          }
        }
      ]
    },
    {
      "cell_type": "code",
      "metadata": {
        "id": "nXbThuADuTCn"
      },
      "source": [
        "yeni_df =pd.DataFrame([200000.20,\t100000.80,\t350000.10,\t1,\t0,\t0]) # Ben de Arge harcamalarına 200 000 dolar yatırım yapmaya karar verdim bakalım bu yıl ki Karım ne kadar olacak"
      ],
      "execution_count": 34,
      "outputs": []
    },
    {
      "cell_type": "code",
      "metadata": {
        "colab": {
          "base_uri": "https://localhost:8080/",
          "height": 77
        },
        "id": "uZPc_268vJ2f",
        "outputId": "38ff5c8d-8a99-40c4-a679-4d156439e3ec"
      },
      "source": [
        "yeni_df.T"
      ],
      "execution_count": 37,
      "outputs": [
        {
          "output_type": "execute_result",
          "data": {
            "text/html": [
              "<div>\n",
              "<style scoped>\n",
              "    .dataframe tbody tr th:only-of-type {\n",
              "        vertical-align: middle;\n",
              "    }\n",
              "\n",
              "    .dataframe tbody tr th {\n",
              "        vertical-align: top;\n",
              "    }\n",
              "\n",
              "    .dataframe thead th {\n",
              "        text-align: right;\n",
              "    }\n",
              "</style>\n",
              "<table border=\"1\" class=\"dataframe\">\n",
              "  <thead>\n",
              "    <tr style=\"text-align: right;\">\n",
              "      <th></th>\n",
              "      <th>0</th>\n",
              "      <th>1</th>\n",
              "      <th>2</th>\n",
              "      <th>3</th>\n",
              "      <th>4</th>\n",
              "      <th>5</th>\n",
              "    </tr>\n",
              "  </thead>\n",
              "  <tbody>\n",
              "    <tr>\n",
              "      <th>0</th>\n",
              "      <td>200000.2</td>\n",
              "      <td>100000.8</td>\n",
              "      <td>350000.1</td>\n",
              "      <td>1.0</td>\n",
              "      <td>0.0</td>\n",
              "      <td>0.0</td>\n",
              "    </tr>\n",
              "  </tbody>\n",
              "</table>\n",
              "</div>"
            ],
            "text/plain": [
              "          0         1         2    3    4    5\n",
              "0  200000.2  100000.8  350000.1  1.0  0.0  0.0"
            ]
          },
          "metadata": {},
          "execution_count": 37
        }
      ]
    },
    {
      "cell_type": "code",
      "metadata": {
        "colab": {
          "base_uri": "https://localhost:8080/"
        },
        "id": "IVVRn6RivRzR",
        "outputId": "15c08ca8-2d4b-44af-bc0e-96199852c044"
      },
      "source": [
        "rf_tuned.predict(yeni_df.T)  # Arge ye 200 000 dolarlık bir yatırımla bu yıl ki karım 171500 dolar olacakmış biraz daha farklı bir bütçe ayırmayı deneyelim"
      ],
      "execution_count": 38,
      "outputs": [
        {
          "output_type": "execute_result",
          "data": {
            "text/plain": [
              "array([171500.6904])"
            ]
          },
          "metadata": {},
          "execution_count": 38
        }
      ]
    },
    {
      "cell_type": "code",
      "metadata": {
        "colab": {
          "base_uri": "https://localhost:8080/"
        },
        "id": "EVVRHTRHvsh7",
        "outputId": "df9b3fcd-2f41-46af-f0bb-2c0e9b425bed"
      },
      "source": [
        "yeni_df =pd.DataFrame([300000.20,\t150000.80,\t350000.10,\t1,\t0,\t0]) # ArGe ye bi sefer 300 000 dolar yatırım yaptım ama karımda pek bir değişiklik olmadığını gördüm \n",
        "rf_tuned.predict(yeni_df.T)                                           # Bu gereksiz harcamayı yapmayacağım. Neyse ki benim önümü aydınlatan bir veri bilimcim var :)"
      ],
      "execution_count": 47,
      "outputs": [
        {
          "output_type": "execute_result",
          "data": {
            "text/plain": [
              "array([171669.38665])"
            ]
          },
          "metadata": {},
          "execution_count": 47
        }
      ]
    }
  ]
}